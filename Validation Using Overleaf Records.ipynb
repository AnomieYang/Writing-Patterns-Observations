{
 "cells": [
  {
   "cell_type": "code",
   "execution_count": 1,
   "metadata": {},
   "outputs": [],
   "source": [
    "# 2305.14591\n",
    "x1=[0, 1, 0, 1, 1] # Arxiv contributions\n",
    "y1=[171,53,13,0,4] # Overleaf editing records"
   ]
  },
  {
   "cell_type": "code",
   "execution_count": 2,
   "metadata": {},
   "outputs": [],
   "source": [
    "# 2306.01953\n",
    "x2=[3, 8, 0, 0, 0, 0, 1, 6, 8] # Arxiv contributions\n",
    "y2=[533,411,14,12,21,13,26,210,21] # Overleaf editing records"
   ]
  },
  {
   "cell_type": "code",
   "execution_count": 4,
   "metadata": {},
   "outputs": [
    {
     "name": "stdout",
     "output_type": "stream",
     "text": [
      "Pearson correlation coefficient: 0.49950867816739164\n",
      "P-value: 0.06897115204884266\n"
     ]
    }
   ],
   "source": [
    "from scipy.stats import pearsonr\n",
    "x=x1+x2\n",
    "y=y1+y2\n",
    "r, p_value = pearsonr(x, y)\n",
    "print(\"Pearson correlation coefficient:\", r)\n",
    "print(\"P-value:\", p_value)"
   ]
  },
  {
   "cell_type": "code",
   "execution_count": null,
   "metadata": {},
   "outputs": [],
   "source": []
  }
 ],
 "metadata": {
  "kernelspec": {
   "display_name": "Python 3",
   "language": "python",
   "name": "python3"
  },
  "language_info": {
   "codemirror_mode": {
    "name": "ipython",
    "version": 3
   },
   "file_extension": ".py",
   "mimetype": "text/x-python",
   "name": "python",
   "nbconvert_exporter": "python",
   "pygments_lexer": "ipython3",
   "version": "3.9.6"
  }
 },
 "nbformat": 4,
 "nbformat_minor": 2
}
