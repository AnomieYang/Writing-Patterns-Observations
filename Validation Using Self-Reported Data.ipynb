{
 "cells": [
  {
   "cell_type": "markdown",
   "id": "35d7c2de",
   "metadata": {},
   "source": [
    "# > Select papers published in the four specified journals"
   ]
  },
  {
   "cell_type": "code",
   "execution_count": 1,
   "id": "4bb38e50",
   "metadata": {},
   "outputs": [],
   "source": [
    "from tqdm import tqdm\n",
    "import csv\n",
    "import sys\n",
    "csv.field_size_limit(sys.maxsize)\n",
    "import pandas as pd"
   ]
  },
  {
   "cell_type": "code",
   "execution_count": 2,
   "id": "dec5cccc",
   "metadata": {},
   "outputs": [],
   "source": [
    "target=[\"Proceedings of the National Academy of Sciences\",\"PLoS ONE\",\"Nature\",\"Science\"]"
   ]
  },
  {
   "cell_type": "code",
   "execution_count": 3,
   "id": "ab23a855",
   "metadata": {},
   "outputs": [
    {
     "name": "stderr",
     "output_type": "stream",
     "text": [
      "2840569it [04:28, 10564.30it/s]\n"
     ]
    }
   ],
   "source": [
    "data=[]\n",
    "with open(\"Data/author_contribution_full.csv\",mode=\"r\",encoding=\"utf-8\") as FI:\n",
    "     \n",
    "     reader=csv.reader(FI)\n",
    "     cols=next(reader)\n",
    "     \n",
    "     for row in tqdm(reader):\n",
    "          pid=row[cols.index(\"arxiv_id\")]\n",
    "          dic=eval(row[cols.index(\"author_contribution\")])\n",
    "          TS=len(dic)\n",
    "          if TS<2:\n",
    "               continue\n",
    "          if sum(dic.values())==0:\n",
    "               continue\n",
    "          journal=row[cols.index(\"journal_info_from_open_alex\")]\n",
    "          if journal not in target:\n",
    "               continue\n",
    "          doi=row[cols.index(\"doi_from_open_alex\")]\n",
    "          if doi==\"\":\n",
    "               continue\n",
    "          PY=int(row[cols.index(\"pub_year_from_open_alex\")])\n",
    "          data.append([pid,TS,dic,journal,doi,PY])"
   ]
  },
  {
   "cell_type": "code",
   "execution_count": 4,
   "id": "ca318a80",
   "metadata": {},
   "outputs": [],
   "source": [
    "df=pd.DataFrame(data)\n",
    "df.columns=[\"PaperID\",\"TeamSize\",\"AuthorContribution\",\"Journal\",\"DOI\",\"PublicationYear\"]"
   ]
  },
  {
   "cell_type": "code",
   "execution_count": 5,
   "id": "e970944d",
   "metadata": {},
   "outputs": [
    {
     "data": {
      "text/plain": [
       "Journal\n",
       "Proceedings of the National Academy of Sciences    947\n",
       "Nature                                             873\n",
       "PLoS ONE                                           481\n",
       "Science                                            439\n",
       "Name: count, dtype: int64"
      ]
     },
     "execution_count": 5,
     "metadata": {},
     "output_type": "execute_result"
    }
   ],
   "source": [
    "df.value_counts(\"Journal\")"
   ]
  },
  {
   "cell_type": "markdown",
   "id": "5441b80a",
   "metadata": {},
   "source": [
    "# > Obtaining self-reported contribution data from websites"
   ]
  },
  {
   "cell_type": "code",
   "execution_count": 6,
   "id": "c6064256",
   "metadata": {},
   "outputs": [],
   "source": [
    "import pandas as pd\n",
    "import numpy as np"
   ]
  },
  {
   "cell_type": "code",
   "execution_count": 7,
   "id": "1ee68524",
   "metadata": {},
   "outputs": [],
   "source": [
    "from selenium import webdriver\n",
    "from bs4 import BeautifulSoup\n",
    "import re"
   ]
  },
  {
   "cell_type": "code",
   "execution_count": 8,
   "id": "75956611",
   "metadata": {},
   "outputs": [],
   "source": [
    "from tqdm import tqdm\n",
    "import os"
   ]
  },
  {
   "cell_type": "markdown",
   "id": "f035a75b",
   "metadata": {},
   "source": [
    "## Nature"
   ]
  },
  {
   "cell_type": "code",
   "execution_count": 38,
   "id": "85b1c5c4",
   "metadata": {},
   "outputs": [],
   "source": [
    "df_Nature=df[df[\"Journal\"]==\"Nature\"]\n",
    "df_Nature=df_Nature.reset_index(drop=True)\n",
    "df_Nature[\"ArticleType\"]=np.nan\n",
    "df_Nature[\"SelfReportedData\"]=np.nan"
   ]
  },
  {
   "cell_type": "code",
   "execution_count": 39,
   "id": "01423179",
   "metadata": {},
   "outputs": [
    {
     "name": "stderr",
     "output_type": "stream",
     "text": [
      "  0%|          | 0/873 [00:00<?, ?it/s]/var/folders/15/zdzkyvk944j0nfbn1bqzyd2w0000gn/T/ipykernel_1101/4267914984.py:34: FutureWarning: Setting an item of incompatible dtype is deprecated and will raise an error in a future version of pandas. Value 'Letter' has dtype incompatible with float64, please explicitly cast to a compatible dtype first.\n",
      "  df_Nature.loc[i,\"ArticleType\"]=t\n",
      " 16%|█▋        | 143/873 [00:05<00:29, 24.63it/s]/var/folders/15/zdzkyvk944j0nfbn1bqzyd2w0000gn/T/ipykernel_1101/4267914984.py:51: FutureWarning: Setting an item of incompatible dtype is deprecated and will raise an error in a future version of pandas. Value 'R.D.M. analyzed data, designed the study and wrote the paper. J.M.O. and L.A.N.A. designed the study and wrote the paper.' has dtype incompatible with float64, please explicitly cast to a compatible dtype first.\n",
      "  df_Nature.loc[i,\"SelfReportedData\"]=AC\n",
      "100%|██████████| 873/873 [00:41<00:00, 20.91it/s]\n"
     ]
    }
   ],
   "source": [
    "n=len(df_Nature)\n",
    "turn=1\n",
    "while turn<=3:\n",
    "    blanks=0\n",
    "    for i in tqdm(range(n)):\n",
    "        if type(df_Nature.loc[i,\"SelfReportedData\"])!=str:\n",
    "            doi=df_Nature.loc[i,\"DOI\"]\n",
    "            index=doi.split(\"/\")[3]+\".\"+doi.split(\"/\")[4].lstrip(\"nature\")\n",
    "            filename=\"Data/Source/Nature/\"+str(index)+\".html\"\n",
    "            flag=os.path.isfile(filename)\n",
    "            if flag==False:\n",
    "                link=df_Nature.loc[i,\"DOI\"]\n",
    "                try:\n",
    "                    # Getting the source code of the webpage\n",
    "                    driver=webdriver.Chrome()\n",
    "                    driver.get(link)\n",
    "                    driver.implicitly_wait(10)\n",
    "                    page=driver.page_source\n",
    "                    fp=page.encode(\"utf-8\")\n",
    "                    driver.quit() \n",
    "                    # Saveing the source code\n",
    "                    with open(filename,mode=\"w\",encoding=\"utf-8\") as f:\n",
    "                        f.write(page)\n",
    "                except:\n",
    "                    pass        \n",
    "            else:\n",
    "                fp=open(filename,\"r\",encoding=\"utf-8\")\n",
    "            # Parsing the source code\n",
    "            soup=BeautifulSoup(fp,\"lxml\")\n",
    "            # Obtaining the article type\n",
    "            try:\n",
    "                src=soup.select(\"#content > main > article > div.c-article-header > header > ul.c-article-identifiers > li:nth-child(1)\")\n",
    "                t=src[0].get_text()\n",
    "                df_Nature.loc[i,\"ArticleType\"]=t\n",
    "            except:\n",
    "                pass\n",
    "            # Obtaining author list\n",
    "            src=soup.find_all(attrs={\"name\":\"dc.creator\"})\n",
    "            author_list=[]\n",
    "            for item in src:\n",
    "                author_list.append(item[\"content\"])\n",
    "                df_Nature.loc[i,\"Authors_SR\"]=str(author_list)\n",
    "                df_Nature.loc[i,\"TeamSize_SR\"]=len(author_list)\n",
    "            # Obtaining author contribution statement\n",
    "            contributions_heading = soup.select_one(\"h3#contributions\")\n",
    "            if contributions_heading:\n",
    "                src=contributions_heading.find_next_sibling('p')\n",
    "                try:\n",
    "                    AC=src.get_text()\n",
    "                    if \"Correspondence\" not in AC:\n",
    "                        df_Nature.loc[i,\"SelfReportedData\"]=AC\n",
    "                except:\n",
    "                    blanks+=1              \n",
    "    turn+=1\n",
    "    if blanks==0:\n",
    "        break"
   ]
  },
  {
   "cell_type": "code",
   "execution_count": 40,
   "id": "0b6ae733",
   "metadata": {},
   "outputs": [],
   "source": [
    "df_Nature=df_Nature.dropna()\n",
    "df_Nature=df_Nature.reset_index(drop=True)"
   ]
  },
  {
   "cell_type": "markdown",
   "id": "2da8a6e5",
   "metadata": {},
   "source": [
    "### - Self-reported data"
   ]
  },
  {
   "cell_type": "code",
   "execution_count": 41,
   "id": "6787a717",
   "metadata": {},
   "outputs": [],
   "source": [
    "df_Nature=df_Nature.rename(columns={\"Authors_SR\":\"Authors_SR_raw\"})"
   ]
  },
  {
   "cell_type": "code",
   "execution_count": 42,
   "id": "49d5ec28",
   "metadata": {},
   "outputs": [],
   "source": [
    "# Normalizing self_reported data\n",
    "n=len(df_Nature)\n",
    "keywords1=[\"co-authors\",\"coauthors\"]\n",
    "keywords2=[\"All authors\",\"all authors\",\"Both authors\",\"both authors\"]\n",
    "for i in range(n):\n",
    "    AC_raw=df_Nature.loc[i,\"SelfReportedData\"]\n",
    "    ACDict={}\n",
    "\n",
    "    for kw in keywords2:\n",
    "        AC_raw = AC_raw.replace(kw,\"ALL\")\n",
    "    AC_raw=re.sub(r\"&[a-z]*\\;\",\" \",AC_raw)\n",
    "    # Split the text into sentences\n",
    "    sentence_pattern = r'(?<=[a-zA-z][.!?\\;])\\s+(?![a-z])'\n",
    "    sentences = re.split(sentence_pattern, AC_raw)\n",
    "    if len(sentences)==1 and \":\" in sentences[0]: # not full sentences, but pattern like \"Experiment: A.B., C.D. Writing: E.F.\"\n",
    "        pattern = re.compile(r'[A-Za-z\\s]+:\\s*[A-Za-z.,\\s-]+')\n",
    "        sentences = pattern.findall(AC_raw)\n",
    "    # sentences = segmenter.segment(AC_raw)\n",
    "\n",
    "    # Regular expression to match author names and tasks\n",
    "    author_pattern = r'\\b(?:[A-ZvÖÄÜ][\\.][\\-]*)+[\\s\\,\\:]|ALL'\n",
    "\n",
    "    for sentence in sentences:\n",
    "        # Find all author names in the sentence\n",
    "        sentence+=\" \" # in case the name is at the end of the sentence\n",
    "        authors = re.findall(author_pattern, sentence)\n",
    "        for j in range(len(authors)):\n",
    "            authors[j]=authors[j].replace(\"-\",\"\")\n",
    "            authors[j]=authors[j].replace(\",\",\"\")\n",
    "            authors[j]=authors[j].replace(\":\",\"\")\n",
    "            authors[j]=authors[j].replace(\" \",\"\")\n",
    "        \n",
    "        # Find the task in the sentence\n",
    "        task=sentence\n",
    "        task=task.replace(\"and\",\"\")\n",
    "        task=task.replace(\",\",\"\")\n",
    "        task=task.replace(\";\",\" tab\")\n",
    "        task=re.sub(author_pattern, '', task)\n",
    "        task=task.lower()\n",
    "\n",
    "        # Remove any trailing or leading punctuation\n",
    "        task = task.rstrip('.').strip()\n",
    "        \n",
    "        # Add the task and authors to the dictionary\n",
    "        if task and authors:\n",
    "            if task in ACDict:\n",
    "                ACDict[task].extend(authors)\n",
    "            else:\n",
    "                ACDict[task] = authors\n",
    "    \n",
    "    df_Nature.loc[i,\"SelfReportedData_Dict\"]=str(ACDict)"
   ]
  },
  {
   "cell_type": "code",
   "execution_count": 43,
   "id": "6578d818",
   "metadata": {},
   "outputs": [],
   "source": [
    "# Identifying writing contributors\n",
    "n=len(df_Nature)\n",
    "keywords=[\"wrote\",\"writing\",\"manuscript\",\"edit\",\"revise\",\"revision\"]\n",
    "for i in range(n):\n",
    "    authors_full = []\n",
    "    ACDict=eval(df_Nature.loc[i,\"SelfReportedData_Dict\"])\n",
    "    for task in ACDict:\n",
    "        flag=False\n",
    "        for kw in keywords:\n",
    "            if kw in task.lower():\n",
    "                flag=True\n",
    "                break\n",
    "        if flag:\n",
    "            authors=[a.upper() for a in ACDict[task]]\n",
    "            authors_full += authors\n",
    "    authors_full=list(set(authors_full))\n",
    "    df_Nature.loc[i,\"WritingPeople_SR\"]=str(authors_full)"
   ]
  },
  {
   "cell_type": "code",
   "execution_count": 44,
   "id": "af56db2a",
   "metadata": {},
   "outputs": [],
   "source": [
    "# Converting author names to abbreviations\n",
    "n=len(df_Nature)\n",
    "for i in range(n):\n",
    "    authorList_raw=eval(df_Nature.loc[i,\"Authors_SR_raw\"])\n",
    "    authorList=[]\n",
    "    for author in authorList_raw:\n",
    "        author.replace(\"-\",\"\") \n",
    "        names=author.split(\",\")\n",
    "        try:\n",
    "            lastName=names[0]\n",
    "            firstName=names[1]\n",
    "        except:\n",
    "            continue\n",
    "        abbr=\"\"\n",
    "        for name in firstName.split():\n",
    "            abbr+=name[0].upper()+\".\"\n",
    "        for name in lastName.split():\n",
    "            abbr+=name[0].upper()+\".\"\n",
    "        abbr=abbr.upper()\n",
    "        authorList.append(abbr)\n",
    "    if len(authorList)!=len(authorList_raw):\n",
    "        continue\n",
    "    df_Nature.loc[i,\"Authors_SR\"]=str(authorList)"
   ]
  },
  {
   "cell_type": "code",
   "execution_count": 45,
   "id": "d63016bb",
   "metadata": {},
   "outputs": [],
   "source": [
    "# Matching authors' names and their ranks\n",
    "n=len(df_Nature)\n",
    "for i in range(n):\n",
    "    try:\n",
    "        authorList=eval(df_Nature.loc[i,\"Authors_SR\"])\n",
    "    except:\n",
    "        continue\n",
    "    wroteList_raw=eval(df_Nature.loc[i,\"WritingPeople_SR\"])\n",
    "    # Dealing with the cases that all authors contributed\n",
    "    keywords=[\"ALL\",\"BOTH\",\"AUTHORS\"]\n",
    "    flag=False\n",
    "    for kw in keywords:\n",
    "        if kw in wroteList_raw:\n",
    "            flag=True\n",
    "            break\n",
    "    if flag:\n",
    "        wroteList=[r+1 for r in range(len(authorList))]\n",
    "        df_Nature.loc[i,\"WritingPeople_SR_rank\"]=str(wroteList)\n",
    "        df_Nature.loc[i,\"WritingNumber_SR\"]=len(wroteList)\n",
    "        continue\n",
    "    # Dealing with the cases that only part of the authors contributed\n",
    "    # i) default style; ii) family name first\n",
    "    wroteList=[]\n",
    "    try:\n",
    "        check=authorList.copy()\n",
    "        for writer in wroteList_raw:\n",
    "            if writer in authorList:\n",
    "                rank=authorList.index(writer)+1\n",
    "                wroteList.append(rank)\n",
    "                check.remove(writer)\n",
    "            break\n",
    "        wroteList.sort()\n",
    "    except:\n",
    "        pass\n",
    "    if len(wroteList)==len(wroteList_raw):\n",
    "        df_Nature.loc[i,\"WritingPeople_SR_rank\"]=str(wroteList)\n",
    "        df_Nature.loc[i,\"WritingNumber_SR\"]=len(wroteList)"
   ]
  },
  {
   "cell_type": "markdown",
   "id": "360bd3da",
   "metadata": {},
   "source": [
    "### - Observational data"
   ]
  },
  {
   "cell_type": "code",
   "execution_count": 46,
   "id": "f6a6d123",
   "metadata": {},
   "outputs": [],
   "source": [
    "df_Nature=df_Nature.rename(columns={\"TeamSize\":\"TeamSize_Obs\"})"
   ]
  },
  {
   "cell_type": "code",
   "execution_count": 47,
   "id": "4c05649a",
   "metadata": {},
   "outputs": [],
   "source": [
    "n=len(df_Nature)\n",
    "for i in range(n):\n",
    "    l_rank=[]\n",
    "    AC=df_Nature.loc[i,\"AuthorContribution\"]\n",
    "    rank=1\n",
    "    for author in AC:\n",
    "        if AC[author]!=0:\n",
    "            l_rank.append(rank)\n",
    "        rank+=1\n",
    "    df_Nature.loc[i,\"WritingPeople_Obs_rank\"]=str(l_rank)\n",
    "    df_Nature.loc[i,\"WritingNumber_Obs\"]=len(l_rank)"
   ]
  },
  {
   "cell_type": "markdown",
   "id": "4ec98c88",
   "metadata": {},
   "source": [
    "### - Summary"
   ]
  },
  {
   "cell_type": "code",
   "execution_count": 48,
   "id": "293baee7",
   "metadata": {},
   "outputs": [],
   "source": [
    "df_Nature=df_Nature.dropna()\n",
    "df_Nature=df_Nature.reset_index(drop=True)"
   ]
  },
  {
   "cell_type": "code",
   "execution_count": 49,
   "id": "5270ea45",
   "metadata": {},
   "outputs": [],
   "source": [
    "df_Nature=df_Nature[df_Nature[\"TeamSize_Obs\"]==df_Nature[\"TeamSize_SR\"]]\n",
    "df_Nature=df_Nature[df_Nature[\"PublicationYear\"]<=2023]\n",
    "df_Nature=df_Nature.reset_index(drop=True)"
   ]
  },
  {
   "cell_type": "code",
   "execution_count": 50,
   "id": "6aef79ff",
   "metadata": {},
   "outputs": [
    {
     "name": "stdout",
     "output_type": "stream",
     "text": [
      "204\n",
      "2010 2023\n"
     ]
    }
   ],
   "source": [
    "print(len(df_Nature))\n",
    "print(np.min(df_Nature[\"PublicationYear\"]),np.max(df_Nature[\"PublicationYear\"]))"
   ]
  },
  {
   "cell_type": "markdown",
   "id": "06d654bd",
   "metadata": {},
   "source": [
    "## Science"
   ]
  },
  {
   "cell_type": "code",
   "execution_count": 51,
   "id": "879faeb1",
   "metadata": {},
   "outputs": [],
   "source": [
    "df_Science=df[df[\"Journal\"]==\"Science\"]\n",
    "df_Science=df_Science.reset_index(drop=True)\n",
    "df_Science[\"ArticleType\"]=np.nan\n",
    "df_Science[\"SelfReportedData\"]=np.nan"
   ]
  },
  {
   "cell_type": "code",
   "execution_count": 52,
   "id": "8cb68aee",
   "metadata": {},
   "outputs": [
    {
     "name": "stderr",
     "output_type": "stream",
     "text": [
      "  0%|          | 0/439 [00:00<?, ?it/s]/var/folders/15/zdzkyvk944j0nfbn1bqzyd2w0000gn/T/ipykernel_1101/3168489594.py:33: FutureWarning: Setting an item of incompatible dtype is deprecated and will raise an error in a future version of pandas. Value 'Research Articles' has dtype incompatible with float64, please explicitly cast to a compatible dtype first.\n",
      "  df_Science.loc[i,\"ArticleType\"]=t\n",
      " 44%|████▎     | 191/439 [00:12<00:18, 13.17it/s]/var/folders/15/zdzkyvk944j0nfbn1bqzyd2w0000gn/T/ipykernel_1101/3168489594.py:61: FutureWarning: Setting an item of incompatible dtype is deprecated and will raise an error in a future version of pandas. Value ' N.S. and J.-D.B. initiated the study, with input from R.S. J.-D.B. derived optimal Bell inequalities and performed statistics tests, discussing with R.S., N.S., and V.S. R.S. and P.T. derived the witnesses from the Bell inequality, with support from J.-D.B. and N.S. B.A., M.F., and R.S. performed experiments and analyzed data, supervised by P.T. All authors discussed the results and contributed to the manuscript.' has dtype incompatible with float64, please explicitly cast to a compatible dtype first.\n",
      "  df_Science.loc[i,\"SelfReportedData\"]=AC\n",
      "100%|██████████| 439/439 [00:37<00:00, 11.66it/s]\n"
     ]
    }
   ],
   "source": [
    "n=len(df_Science)\n",
    "turn=1\n",
    "while turn<=3:\n",
    "    blanks=0\n",
    "    for i in tqdm(range(n)):\n",
    "        if type(df_Science.loc[i,\"SelfReportedData\"])!=str:\n",
    "            doi=df_Science.loc[i,\"DOI\"]\n",
    "            index=doi.split(\"/\")[3]+doi.split(\"/\")[4].lstrip(\"science\")\n",
    "            filename=\"Data/Source/Science/\"+str(index)+\".html\"\n",
    "            flag=os.path.isfile(filename)\n",
    "            if flag==False:\n",
    "                link=df_Science.loc[i,\"DOI\"]\n",
    "                try:\n",
    "                    # Getting the source code of the webpage\n",
    "                    driver=webdriver.Chrome()\n",
    "                    driver.get(link)\n",
    "                    driver.implicitly_wait(10)\n",
    "                    page=driver.page_source\n",
    "                    fp=page.encode(\"utf-8\")\n",
    "                    driver.quit() \n",
    "                    # Saveing the source code\n",
    "                    with open(filename,mode=\"w\",encoding=\"utf-8\") as f:\n",
    "                        f.write(page)\n",
    "                except:\n",
    "                    pass        \n",
    "            else:\n",
    "                fp=open(filename,\"r\",encoding=\"utf-8\")\n",
    "            # Parsing the source code\n",
    "            soup=BeautifulSoup(fp,\"lxml\")\n",
    "            # Obtaining the article type\n",
    "            try:\n",
    "                t=soup.find(attrs={\"class\":\"meta-panel__type\"}).get_text()\n",
    "                df_Science.loc[i,\"ArticleType\"]=t\n",
    "            except:\n",
    "                pass\n",
    "            # Obtaining author list\n",
    "            src=soup.find_all(attrs={\"property\":\"author\",\"role\":\"listitem\"})\n",
    "            author_list=[]\n",
    "            for item in src:\n",
    "                FName=item.find(attrs={\"property\":\"familyName\"})\n",
    "                LName=item.find(attrs={\"property\":\"givenName\"})\n",
    "                try:\n",
    "                    FName=FName.get_text()\n",
    "                    LName=LName.get_text()\n",
    "                    author_list.append(LName+\", \"+FName)\n",
    "                except:\n",
    "                    pass\n",
    "            df_Science.loc[i,\"Authors_SR\"]=str(author_list)\n",
    "            df_Science.loc[i,\"TeamSize_SR\"]=len(author_list)\n",
    "            src=soup.select(\"#tab-information > section.core-acknowledgments > div\")\n",
    "            for item in src:\n",
    "                try:\n",
    "                    # AC=item.get_text()\n",
    "                    AC=str(item)\n",
    "                    if \"Authors contributions:\" in AC or \"Author contributions:\" in AC:\n",
    "                        AC=re.split(r'Authors contributions\\:|Author contributions\\:', AC)\n",
    "                        AC=AC[1]\n",
    "                        AC=AC.replace(\"</div>\",\"\")\n",
    "                        AC=AC.replace(\"</b>\",\"\")\n",
    "                        AC=AC.split(\"<b>\")[0]\n",
    "                        df_Science.loc[i,\"SelfReportedData\"]=AC\n",
    "                except:\n",
    "                    blanks+=1           \n",
    "    turn+=1\n",
    "    if blanks==0:\n",
    "        break"
   ]
  },
  {
   "cell_type": "code",
   "execution_count": 53,
   "id": "98b72ecc",
   "metadata": {},
   "outputs": [],
   "source": [
    "df_Science=df_Science.dropna()\n",
    "df_Science=df_Science.reset_index(drop=True)"
   ]
  },
  {
   "cell_type": "markdown",
   "id": "010acd55",
   "metadata": {},
   "source": [
    "### - Self-reported data"
   ]
  },
  {
   "cell_type": "code",
   "execution_count": 54,
   "id": "c775a1d4",
   "metadata": {},
   "outputs": [],
   "source": [
    "df_Science=df_Science.rename(columns={\"Authors_SR\":\"Authors_SR_raw\"})"
   ]
  },
  {
   "cell_type": "code",
   "execution_count": 55,
   "id": "732760ad",
   "metadata": {},
   "outputs": [],
   "source": [
    "# Normalizing self_reported data\n",
    "n=len(df_Science)\n",
    "keywords1=[\"co-authors\",\"coauthors\"]\n",
    "keywords2=[\"All authors\",\"all authors\",\"Both authors\",\"both authors\"]\n",
    "for i in range(n):\n",
    "    AC_raw=df_Science.loc[i,\"SelfReportedData\"]\n",
    "    ACDict={}\n",
    "\n",
    "    for kw in keywords2:\n",
    "        AC_raw = AC_raw.replace(kw,\"ALL\")\n",
    "    AC_raw=re.sub(r\"&[a-z]*\\;\",\" \",AC_raw)\n",
    "    # Split the text into sentences\n",
    "    sentence_pattern = r'(?<=[a-zA-z][.!?\\;])\\s+(?![a-z])'\n",
    "    sentences = re.split(sentence_pattern, AC_raw)\n",
    "    if len(sentences)==1 and \":\" in sentences[0]: # not full sentences, but pattern like \"Experiment: A.B., C.D. Writing: E.F.\"\n",
    "        pattern = re.compile(r'[A-Za-z\\s]+:\\s*[A-Za-z.,\\s-]+')\n",
    "        sentences = pattern.findall(AC_raw)\n",
    "\n",
    "    # Regular expression to match author names and tasks\n",
    "    author_pattern = r'\\b(?:[A-ZvÖÄÜ][\\.][\\-]*)+[\\s\\,\\:]|ALL'\n",
    "\n",
    "    for sentence in sentences:\n",
    "        # Find all author names in the sentence\n",
    "        sentence+=\" \" # in case the name is at the end of the sentence\n",
    "        authors = re.findall(author_pattern, sentence)\n",
    "        for j in range(len(authors)):\n",
    "            authors[j]=authors[j].replace(\"-\",\"\")\n",
    "            authors[j]=authors[j].replace(\",\",\"\")\n",
    "            authors[j]=authors[j].replace(\":\",\"\")\n",
    "            authors[j]=authors[j].replace(\" \",\"\")\n",
    "        \n",
    "        # Find the task in the sentence\n",
    "\n",
    "        # task = re.sub(author_pattern, '', sentence).strip()\n",
    "        task=sentence\n",
    "        task=task.replace(\"and\",\"\")\n",
    "        task=task.replace(\",\",\"\")\n",
    "        task=task.replace(\";\",\" tab\")\n",
    "        task=re.sub(author_pattern, '', task)\n",
    "        task=task.lower()\n",
    "\n",
    "        # Remove any trailing or leading punctuation\n",
    "        task = task.rstrip('.').strip()\n",
    "        \n",
    "        # Add the task and authors to the dictionary\n",
    "\n",
    "        if task and authors:\n",
    "            if task in ACDict:\n",
    "                ACDict[task].extend(authors)\n",
    "            else:\n",
    "                ACDict[task] = authors\n",
    "    \n",
    "    df_Science.loc[i,\"SelfReportedData_Dict\"]=str(ACDict)"
   ]
  },
  {
   "cell_type": "code",
   "execution_count": 56,
   "id": "a7f9ba6e",
   "metadata": {},
   "outputs": [],
   "source": [
    "# Identifying writing contributors\n",
    "n=len(df_Science)\n",
    "keywords=[\"wrote\",\"writing\",\"manuscript\",\"edit\",\"revise\",\"revision\"]\n",
    "for i in range(n):\n",
    "    authors_full = []\n",
    "    ACDict=eval(df_Science.loc[i,\"SelfReportedData_Dict\"])\n",
    "    for task in ACDict:\n",
    "        flag=False\n",
    "        for kw in keywords:\n",
    "            if kw in task.lower():\n",
    "                flag=True\n",
    "                break\n",
    "        if flag:\n",
    "            authors=[a.upper() for a in ACDict[task]]\n",
    "            authors_full += authors\n",
    "            # df_Science.loc[i,\"WritingPeople_SR\"]=str(authors)\n",
    "            # break\n",
    "    authors_full=list(set(authors_full))\n",
    "    df_Science.loc[i,\"WritingPeople_SR\"]=str(authors_full)"
   ]
  },
  {
   "cell_type": "code",
   "execution_count": 57,
   "id": "b3abf631",
   "metadata": {},
   "outputs": [],
   "source": [
    "# Converting author names to abbreviations\n",
    "n=len(df_Science)\n",
    "for i in range(n):\n",
    "    authorList_raw=eval(df_Science.loc[i,\"Authors_SR_raw\"])\n",
    "    authorList=[]\n",
    "    for author in authorList_raw:\n",
    "        author.replace(\"-\",\"\") \n",
    "        names=author.split(\",\")\n",
    "        lastName=names[0]\n",
    "        firstName=names[1]\n",
    "        abbr=\"\"\n",
    "        for name in firstName.split():\n",
    "            abbr+=name[0].upper()+\".\"\n",
    "        for name in lastName.split():\n",
    "            abbr+=name[0].upper()+\".\"\n",
    "        abbr=abbr.upper()\n",
    "        # abbr=abbr.replace(\"Å\",\"A\")\n",
    "        # abbr=abbr.replace(\"Ć\",\"C\")\n",
    "        authorList.append(abbr)\n",
    "    df_Science.loc[i,\"Authors_SR\"]=str(authorList)"
   ]
  },
  {
   "cell_type": "code",
   "execution_count": 58,
   "id": "87a41a28",
   "metadata": {},
   "outputs": [],
   "source": [
    "# Matching authors' names and their ranks\n",
    "n=len(df_Science)\n",
    "for i in range(n):\n",
    "    authorList=eval(df_Science.loc[i,\"Authors_SR\"])\n",
    "    wroteList_raw=eval(df_Science.loc[i,\"WritingPeople_SR\"])\n",
    "    # Dealing with the cases that all authors contributed\n",
    "    keywords=[\"ALL\",\"BOTH\",\"AUTHORS\"]\n",
    "    flag=False\n",
    "    for kw in keywords:\n",
    "        if kw in wroteList_raw:\n",
    "            flag=True\n",
    "            break\n",
    "    if flag:\n",
    "        wroteList=[r+1 for r in range(len(authorList))]\n",
    "        df_Science.loc[i,\"WritingPeople_SR_rank\"]=str(wroteList)\n",
    "        df_Science.loc[i,\"WritingNumber_SR\"]=len(wroteList)\n",
    "        continue\n",
    "    # Dealing with the cases that only part of the authors contributed\n",
    "    wroteList=[]\n",
    "    try:\n",
    "        check=authorList.copy()\n",
    "        for writer in wroteList_raw:\n",
    "            if writer in authorList:\n",
    "                rank=authorList.index(writer)+1\n",
    "                wroteList.append(rank)\n",
    "                check.remove(writer)\n",
    "        wroteList.sort()\n",
    "    except:\n",
    "        pass\n",
    "    if len(wroteList)==len(wroteList_raw):\n",
    "        df_Science.loc[i,\"WritingPeople_SR_rank\"]=str(wroteList)\n",
    "        df_Science.loc[i,\"WritingNumber_SR\"]=len(wroteList)"
   ]
  },
  {
   "cell_type": "markdown",
   "id": "f3a92e88",
   "metadata": {},
   "source": [
    "### - Observational data"
   ]
  },
  {
   "cell_type": "code",
   "execution_count": 59,
   "id": "497aaced",
   "metadata": {},
   "outputs": [],
   "source": [
    "df_Science=df_Science.rename(columns={\"TeamSize\":\"TeamSize_Obs\"})"
   ]
  },
  {
   "cell_type": "code",
   "execution_count": 60,
   "id": "3184950b",
   "metadata": {},
   "outputs": [],
   "source": [
    "n=len(df_Science)\n",
    "for i in range(n):\n",
    "    l_rank=[]\n",
    "    AC=df_Science.loc[i,\"AuthorContribution\"]\n",
    "    rank=1\n",
    "    for author in AC:\n",
    "        if AC[author]!=0:\n",
    "            l_rank.append(rank)\n",
    "        rank+=1\n",
    "    df_Science.loc[i,\"WritingPeople_Obs_rank\"]=str(l_rank)\n",
    "    df_Science.loc[i,\"WritingNumber_Obs\"]=len(l_rank)"
   ]
  },
  {
   "cell_type": "markdown",
   "id": "3cff1394",
   "metadata": {},
   "source": [
    "### - Summary"
   ]
  },
  {
   "cell_type": "code",
   "execution_count": 61,
   "id": "1233feeb",
   "metadata": {},
   "outputs": [],
   "source": [
    "df_Science=df_Science.dropna()\n",
    "df_Science=df_Science.reset_index(drop=True)"
   ]
  },
  {
   "cell_type": "code",
   "execution_count": 62,
   "id": "634bdc0d",
   "metadata": {},
   "outputs": [],
   "source": [
    "df_Science=df_Science[df_Science[\"TeamSize_Obs\"]==df_Science[\"TeamSize_SR\"]]\n",
    "df_Science=df_Science[df_Science[\"PublicationYear\"]<=2023]\n",
    "df_Science=df_Science.reset_index(drop=True)"
   ]
  },
  {
   "cell_type": "code",
   "execution_count": 63,
   "id": "4940c236",
   "metadata": {},
   "outputs": [
    {
     "name": "stdout",
     "output_type": "stream",
     "text": [
      "48\n",
      "2018 2023\n"
     ]
    }
   ],
   "source": [
    "print(len(df_Science))\n",
    "print(np.min(df_Science[\"PublicationYear\"]),np.max(df_Science[\"PublicationYear\"]))"
   ]
  },
  {
   "cell_type": "markdown",
   "id": "d34ccf9c",
   "metadata": {},
   "source": [
    "## PNAS"
   ]
  },
  {
   "cell_type": "code",
   "execution_count": 9,
   "id": "219779cb",
   "metadata": {},
   "outputs": [],
   "source": [
    "df_PNAS=df[df[\"Journal\"]==\"Proceedings of the National Academy of Sciences\"]\n",
    "df_PNAS=df_PNAS.reset_index(drop=True)\n",
    "df_PNAS[\"SelfReportedData\"]=np.nan"
   ]
  },
  {
   "cell_type": "code",
   "execution_count": 10,
   "id": "d4f32e76",
   "metadata": {},
   "outputs": [
    {
     "name": "stderr",
     "output_type": "stream",
     "text": [
      "  0%|          | 2/947 [00:00<02:19,  6.79it/s]/var/folders/15/zdzkyvk944j0nfbn1bqzyd2w0000gn/T/ipykernel_1101/4146471987.py:59: FutureWarning: Setting an item of incompatible dtype is deprecated and will raise an error in a future version of pandas. Value 'A.P., E.A., and E.D. designed research, performed research, and wrote the paper.' has dtype incompatible with float64, please explicitly cast to a compatible dtype first.\n",
      "  df_PNAS.loc[i,\"SelfReportedData\"]=AC\n",
      "100%|██████████| 947/947 [03:11<00:00,  4.95it/s]\n",
      "100%|██████████| 947/947 [01:00<00:00, 15.59it/s] \n",
      "100%|██████████| 947/947 [00:49<00:00, 19.16it/s] \n"
     ]
    }
   ],
   "source": [
    "n=len(df_PNAS)\n",
    "turn=1\n",
    "while turn<=3:\n",
    "    blanks=0\n",
    "    for i in tqdm(range(n)):\n",
    "        if type(df_PNAS.loc[i,\"SelfReportedData\"])!=str:\n",
    "            doi=df_PNAS.loc[i,\"DOI\"]\n",
    "            index=doi.split(\"pnas.\")[-1]\n",
    "            filename=\"Data/Source/PNAS/\"+str(index)+\".html\"\n",
    "            flag=os.path.isfile(filename)\n",
    "            if flag==False:\n",
    "                link=df_PNAS.loc[i,\"DOI\"]\n",
    "                try:\n",
    "                    # Getting the source code of the webpage\n",
    "                    driver=webdriver.Chrome()\n",
    "                    driver.get(link)\n",
    "                    driver.implicitly_wait(10)\n",
    "                    page=driver.page_source\n",
    "                    fp=page.encode(\"utf-8\")\n",
    "                    driver.quit() \n",
    "                    # Saveing the source code\n",
    "                    with open(filename,mode=\"w\",encoding=\"utf-8\") as f:\n",
    "                        f.write(page)\n",
    "                except:\n",
    "                    pass        \n",
    "            else:\n",
    "                fp=open(filename,\"r\",encoding=\"utf-8\")\n",
    "            # Parsing the source code\n",
    "            soup=BeautifulSoup(fp,\"lxml\")\n",
    "            # Obtaining author list\n",
    "            src=soup.find_all(attrs={\"name\":\"citation_author\"})\n",
    "            author_list=[]\n",
    "            for item in src:\n",
    "                author_list.append(item[\"content\"])\n",
    "                df_PNAS.loc[i,\"Authors_SR\"]=str(author_list)\n",
    "                df_PNAS.loc[i,\"TeamSize_SR\"]=len(author_list)\n",
    "            try:\n",
    "                AC=np.nan\n",
    "                # Check if author contributions are recorded in \"Authors Info & Affiliations\" section\n",
    "                src=soup.select(\"#tab-contributors > section.core-authors-notes > div\")\n",
    "                for item in src: \n",
    "                    text=item.get_text()\n",
    "                    if \"wrote the paper\" in text:\n",
    "                        AC=text\n",
    "                # Check if author contributions are recorded as footnotes\n",
    "                if type(AC)!=str:\n",
    "                    src=soup.find_all(\"div\",role=\"paragraph\")\n",
    "                    for item in src:\n",
    "                        text=item.get_text()\n",
    "                        if \"wrote the paper\" in text:\n",
    "                            AC=text \n",
    "                if type(AC)!=str:\n",
    "                    src=soup.find_element_by_xpath(\"/html/body/div[1]/div/div/main/div[1]/div/article/div[3]/div[1]/section[1]/section[4]/section/section[1]/div\")\n",
    "                    for item in src:\n",
    "                        text=item.get_text()\n",
    "                        if \"wrote the paper\" in text:\n",
    "                            AC=text \n",
    "                AC=AC.replace(\"Author contributions: \",\"\")\n",
    "                df_PNAS.loc[i,\"SelfReportedData\"]=AC\n",
    "            except:\n",
    "                blanks+=1           \n",
    "    turn+=1\n",
    "    if blanks==0:\n",
    "        break"
   ]
  },
  {
   "cell_type": "code",
   "execution_count": 11,
   "id": "f9f3277c",
   "metadata": {},
   "outputs": [],
   "source": [
    "df_PNAS=df_PNAS.dropna()\n",
    "df_PNAS=df_PNAS.reset_index(drop=True)"
   ]
  },
  {
   "cell_type": "markdown",
   "id": "5dea1196",
   "metadata": {},
   "source": [
    "### - Self-reported data"
   ]
  },
  {
   "cell_type": "code",
   "execution_count": 12,
   "id": "fcf5760f",
   "metadata": {},
   "outputs": [],
   "source": [
    "df_PNAS=df_PNAS.rename(columns={\"Authors_SR\":\"Authors_SR_raw\"})"
   ]
  },
  {
   "cell_type": "code",
   "execution_count": 13,
   "id": "5d33c615",
   "metadata": {},
   "outputs": [],
   "source": [
    "# Normalizing self_reported data\n",
    "n=len(df_PNAS)\n",
    "\n",
    "for i in range(n):\n",
    "    AC_raw=df_PNAS.loc[i,\"SelfReportedData\"]\n",
    "    ACDict={}\n",
    "    AC_raw=re.sub(r\"&[a-z]*\\;\",\" \",AC_raw)\n",
    "\n",
    "    sentences = AC_raw.split(\";\")\n",
    "\n",
    "    # Regular expression to match author names and tasks\n",
    "    author_pattern = r'\\b(?:[A-ZvÖÄÜ][\\.][\\-]*)+[\\s\\,\\:]'\n",
    "\n",
    "    for sentence in sentences:\n",
    "        # Find all author names in the sentence\n",
    "        sentence+=\" \" # in case the name is at the end of the sentence\n",
    "        authors = re.findall(author_pattern, sentence)\n",
    "        for j in range(len(authors)):\n",
    "            authors[j]=authors[j].replace(\"-\",\"\")\n",
    "            authors[j]=authors[j].replace(\",\",\"\")\n",
    "            authors[j]=authors[j].replace(\":\",\"\")\n",
    "            authors[j]=authors[j].replace(\" \",\"\")\n",
    "        \n",
    "        # Find the task in the sentence\n",
    "\n",
    "        # task = re.sub(author_pattern, '', sentence).strip()\n",
    "        task=sentence\n",
    "        task=task.replace(\"and\",\"\")\n",
    "        task=task.replace(\",\",\"\")\n",
    "        task=task.replace(\";\",\" tab\")\n",
    "        task=re.sub(author_pattern, '', task)\n",
    "        task=task.lower()\n",
    "\n",
    "        # Remove any trailing or leading punctuation\n",
    "        task = task.rstrip('.').strip()\n",
    "        \n",
    "        # Add the task and authors to the dictionary\n",
    "\n",
    "        if task and authors:\n",
    "            if task in ACDict:\n",
    "                ACDict[task].extend(authors)\n",
    "            else:\n",
    "                ACDict[task] = authors\n",
    "    \n",
    "    df_PNAS.loc[i,\"SelfReportedData_Dict\"]=str(ACDict)"
   ]
  },
  {
   "cell_type": "code",
   "execution_count": 14,
   "id": "8fe733d5",
   "metadata": {},
   "outputs": [],
   "source": [
    "# Identifying writing contributors\n",
    "n=len(df_PNAS)\n",
    "keywords=[\"wrote\",\"writing\",\"manuscript\",\"editted\",\"editting\",\"revise\",\"revision\"]\n",
    "for i in range(n):\n",
    "    authors_full = []\n",
    "    ACDict=eval(df_PNAS.loc[i,\"SelfReportedData_Dict\"])\n",
    "    for task in ACDict:\n",
    "        flag=False\n",
    "        for kw in keywords:\n",
    "            if kw in task.lower():\n",
    "                flag=True\n",
    "                break\n",
    "        if flag:\n",
    "            authors=[a.upper() for a in ACDict[task]]\n",
    "            authors_full += authors\n",
    "            # df_PNAS.loc[i,\"WritingPeople_SR\"]=str(authors)\n",
    "            # break\n",
    "    authors_full=list(set(authors_full))\n",
    "    df_PNAS.loc[i,\"WritingPeople_SR\"]=str(authors_full)"
   ]
  },
  {
   "cell_type": "code",
   "execution_count": 15,
   "id": "f00e7f10",
   "metadata": {},
   "outputs": [],
   "source": [
    "# Converting author names to abbreviations\n",
    "n=len(df_PNAS)\n",
    "for i in range(n):\n",
    "    authorList_raw=eval(df_PNAS.loc[i,\"Authors_SR_raw\"])\n",
    "    authorList=[]\n",
    "    for author in authorList_raw:\n",
    "        author.replace(\"-\",\"\") \n",
    "        names=author.split(\",\")\n",
    "        lastName=names[0]\n",
    "        firstName=names[1]\n",
    "        abbr=\"\"\n",
    "        for name in firstName.split():\n",
    "            abbr+=name[0].upper()+\".\"\n",
    "        for name in lastName.split():\n",
    "            abbr+=name[0].upper()+\".\"\n",
    "        abbr=abbr.upper()\n",
    "        authorList.append(abbr)\n",
    "    df_PNAS.loc[i,\"Authors_SR\"]=str(authorList)"
   ]
  },
  {
   "cell_type": "code",
   "execution_count": 16,
   "id": "d418d5c3",
   "metadata": {},
   "outputs": [],
   "source": [
    "# Matching authors' names and their ranks\n",
    "n=len(df_PNAS)\n",
    "for i in range(n):\n",
    "    authorList=eval(df_PNAS.loc[i,\"Authors_SR\"])\n",
    "    wroteList_raw=eval(df_PNAS.loc[i,\"WritingPeople_SR\"])\n",
    "    # Dealing with the cases that all authors contributed\n",
    "    keywords=[\"ALL\",\"BOTH\",\"AUTHORS\"]\n",
    "    flag=False\n",
    "    for kw in keywords:\n",
    "        if kw in wroteList_raw:\n",
    "            flag=True\n",
    "            break\n",
    "    if flag:\n",
    "        wroteList=[r+1 for r in range(len(authorList))]\n",
    "        df_PNAS.loc[i,\"WritingPeople_SR_rank\"]=str(wroteList)\n",
    "        df_PNAS.loc[i,\"WritingNumber_SR\"]=len(wroteList)\n",
    "        continue\n",
    "    # Dealing with the cases that only part of the authors contributed\n",
    "    wroteList=[]\n",
    "    try:\n",
    "        check=authorList.copy()\n",
    "        for writer in wroteList_raw:\n",
    "            if writer in authorList:\n",
    "                rank=authorList.index(writer)+1\n",
    "                wroteList.append(rank)\n",
    "                check.remove(writer)\n",
    "        wroteList.sort()\n",
    "    except:\n",
    "        pass\n",
    "    if len(wroteList)==len(wroteList_raw):\n",
    "        df_PNAS.loc[i,\"WritingPeople_SR_rank\"]=str(wroteList)\n",
    "        df_PNAS.loc[i,\"WritingNumber_SR\"]=len(wroteList)"
   ]
  },
  {
   "cell_type": "markdown",
   "id": "c516e990",
   "metadata": {},
   "source": [
    "### - Observational data"
   ]
  },
  {
   "cell_type": "code",
   "execution_count": 17,
   "id": "86e515f8",
   "metadata": {},
   "outputs": [],
   "source": [
    "df_PNAS=df_PNAS.rename(columns={\"TeamSize\":\"TeamSize_Obs\"})"
   ]
  },
  {
   "cell_type": "code",
   "execution_count": 19,
   "id": "5a8f4e3c",
   "metadata": {},
   "outputs": [],
   "source": [
    "n=len(df_PNAS)\n",
    "for i in range(n):\n",
    "    l_rank=[]\n",
    "    AC=df_PNAS.loc[i,\"AuthorContribution\"]\n",
    "    rank=1\n",
    "    for author in AC:\n",
    "        if AC[author]!=0:\n",
    "            l_rank.append(rank)\n",
    "        rank+=1\n",
    "    df_PNAS.loc[i,\"WritingPeople_Obs_rank\"]=str(l_rank)\n",
    "    df_PNAS.loc[i,\"WritingNumber_Obs\"]=len(l_rank)"
   ]
  },
  {
   "cell_type": "markdown",
   "id": "c8644f67",
   "metadata": {},
   "source": [
    "### - Summary"
   ]
  },
  {
   "cell_type": "code",
   "execution_count": 20,
   "id": "ed0f0dc5",
   "metadata": {},
   "outputs": [],
   "source": [
    "df_PNAS=df_PNAS.dropna()\n",
    "df_PNAS=df_PNAS.reset_index(drop=True)"
   ]
  },
  {
   "cell_type": "code",
   "execution_count": 21,
   "id": "8e430c04",
   "metadata": {},
   "outputs": [],
   "source": [
    "df_PNAS=df_PNAS[df_PNAS[\"TeamSize_Obs\"]==df_PNAS[\"TeamSize_SR\"]]\n",
    "df_PNAS=df_PNAS[df_PNAS[\"PublicationYear\"]<=2023]\n",
    "df_PNAS=df_PNAS.reset_index(drop=True)"
   ]
  },
  {
   "cell_type": "code",
   "execution_count": 22,
   "id": "0141aad5",
   "metadata": {},
   "outputs": [
    {
     "name": "stdout",
     "output_type": "stream",
     "text": [
      "599\n",
      "2006 2023\n"
     ]
    }
   ],
   "source": [
    "print(len(df_PNAS))\n",
    "print(np.min(df_PNAS[\"PublicationYear\"]),np.max(df_PNAS[\"PublicationYear\"]))"
   ]
  },
  {
   "cell_type": "markdown",
   "id": "8719b8b3",
   "metadata": {},
   "source": [
    "## Plos One"
   ]
  },
  {
   "cell_type": "code",
   "execution_count": 23,
   "id": "6043368d",
   "metadata": {},
   "outputs": [],
   "source": [
    "df_POne=df[df[\"Journal\"]==\"PLoS ONE\"]\n",
    "df_POne=df_POne.reset_index(drop=True)\n",
    "df_POne[\"SelfReportedData\"]=np.nan"
   ]
  },
  {
   "cell_type": "code",
   "execution_count": 24,
   "id": "8f283bea",
   "metadata": {},
   "outputs": [
    {
     "name": "stderr",
     "output_type": "stream",
     "text": [
      "  0%|          | 0/481 [00:00<?, ?it/s]/var/folders/15/zdzkyvk944j0nfbn1bqzyd2w0000gn/T/ipykernel_1101/2222728834.py:54: FutureWarning: Setting an item of incompatible dtype is deprecated and will raise an error in a future version of pandas. Value 'Conceived and designed the experiments: JG YM AS. Performed the experiments: JG YM JP. Analyzed the data: JG YM JP LF AS. Contributed reagents/materials/analysis tools: JG YM LF. Wrote the paper: JG YM LF AS.' has dtype incompatible with float64, please explicitly cast to a compatible dtype first.\n",
      "  df_POne.loc[i,\"SelfReportedData\"]=AC\n",
      "100%|██████████| 481/481 [00:26<00:00, 17.96it/s]\n"
     ]
    }
   ],
   "source": [
    "n=len(df_POne)\n",
    "turn=1\n",
    "while turn<=3:\n",
    "    blanks=0\n",
    "    for i in tqdm(range(n)):\n",
    "        if type(df_POne.loc[i,\"SelfReportedData\"])!=str:\n",
    "            doi=df_POne.loc[i,\"DOI\"]\n",
    "            index=doi.split(\"/\")[3]+\".\"+doi.split(\"/\")[4].lstrip(\"journal.pone\")\n",
    "            filename=\"Data/Source/Plos One/\"+str(index)+\".html\"\n",
    "            flag=os.path.isfile(filename)\n",
    "            if flag==False:\n",
    "                link=df_POne.loc[i,\"DOI\"]\n",
    "                try:\n",
    "                    # Getting the source code of the webpage\n",
    "                    driver=webdriver.Chrome()\n",
    "                    driver.get(link)\n",
    "                    driver.implicitly_wait(10)\n",
    "                    page=driver.page_source\n",
    "                    fp=page.encode(\"utf-8\")\n",
    "                    driver.quit() \n",
    "                    # Saveing the source code\n",
    "                    with open(filename,mode=\"w\",encoding=\"utf-8\") as f:\n",
    "                        f.write(page)\n",
    "                except:\n",
    "                    pass        \n",
    "            else:\n",
    "                fp=open(filename,\"r\",encoding=\"utf-8\")\n",
    "            # Parsing the source code\n",
    "            soup=BeautifulSoup(fp,\"lxml\")\n",
    "            # Obtaining author list\n",
    "            src=soup.find_all(attrs={\"class\":\"author-name\"})\n",
    "            author_list=[]\n",
    "            for item in src:\n",
    "                author=item.get_text().replace(\"\\n\",\"\")\n",
    "                author=author.rstrip(\",\")\n",
    "                author=author.strip(\" \")\n",
    "                author_list.append(author)\n",
    "            df_POne.loc[i,\"Authors_SR\"]=str(author_list)\n",
    "            df_POne.loc[i,\"TeamSize_SR\"]=len(author_list)\n",
    "            # Obtaining author contribution statement\n",
    "            try:       \n",
    "                src=soup.find_all(attrs={\"class\":\"roles\"})\n",
    "                TS=len(src)\n",
    "                AC={}\n",
    "                for rank in range(TS):\n",
    "                    item=src[rank]\n",
    "                    AC[author_list[rank]]=item.get_text().replace(\"\\n\",\"\")\n",
    "                if len(AC)!=0:\n",
    "                    df_POne.loc[i,\"SelfReportedData\"]=str(AC)\n",
    "                else:\n",
    "                    try:\n",
    "                        AC=soup.select(\"#artText > div.contributions.toc-section > p\")[0].get_text()\n",
    "                        if AC!=\"\\n\":\n",
    "                            df_POne.loc[i,\"SelfReportedData\"]=AC\n",
    "                        else:\n",
    "                            AC=\"\"\n",
    "                            try:\n",
    "                                src=soup.select(\"#artText > div.contributions.toc-section > ol\")\n",
    "                                for item in src:\n",
    "                                    AC+=item.get_text().replace(\"\\n\",\"\")\n",
    "                                df_POne.loc[i,\"SelfReportedData\"]=AC\n",
    "                            except:\n",
    "                                pass\n",
    "                    except:\n",
    "                        pass\n",
    "            except:\n",
    "                blanks+=1           \n",
    "    turn+=1\n",
    "    if blanks==0:\n",
    "        break"
   ]
  },
  {
   "cell_type": "code",
   "execution_count": 25,
   "id": "d00e7aa1",
   "metadata": {},
   "outputs": [],
   "source": [
    "df_POne=df_POne.dropna()\n",
    "df_POne=df_POne.reset_index(drop=True)"
   ]
  },
  {
   "cell_type": "markdown",
   "id": "e78be84f",
   "metadata": {},
   "source": [
    "### - Self-reported data"
   ]
  },
  {
   "cell_type": "code",
   "execution_count": 26,
   "id": "84d290a7",
   "metadata": {},
   "outputs": [],
   "source": [
    "df_POne=df_POne.rename(columns={\"Authors_SR\":\"Authors_SR_raw\"})"
   ]
  },
  {
   "cell_type": "code",
   "execution_count": 27,
   "id": "0c8efbba",
   "metadata": {},
   "outputs": [
    {
     "name": "stderr",
     "output_type": "stream",
     "text": [
      "/var/folders/15/zdzkyvk944j0nfbn1bqzyd2w0000gn/T/ipykernel_1101/3176083308.py:33: FutureWarning: Setting an item of incompatible dtype is deprecated and will raise an error in a future version of pandas. Value '{'conceived and designed the experiments': ['J.G.', 'Y.M.', 'A.S.'], ' performed the experiments': ['J.G.', 'Y.M.', 'J.P.'], ' analyzed the data': ['J.G.', 'Y.M.', 'J.P.', 'L.F.', 'A.S.'], ' contributed reagents/materials/analysis tools': ['J.G.', 'Y.M.', 'L.F.'], ' wrote the paper': ['J.G.', 'Y.M.', 'L.F.', 'A.S.']}' has dtype incompatible with float64, please explicitly cast to a compatible dtype first.\n",
      "  df_POne.loc[i,\"SelfReportedData_Dict\"]=str(ACDict)\n"
     ]
    }
   ],
   "source": [
    "# Normalizing self_reported data\n",
    "df_POne[\"SelfReportedData_Dict\"]=np.nan\n",
    "\n",
    "n=len(df_POne)\n",
    "for i in range(n):\n",
    "    ACDict={}\n",
    "    AC=df_POne.loc[i,\"SelfReportedData\"]\n",
    "    if \"{\" in AC:\n",
    "        AC=eval(AC)\n",
    "        contributors=list(AC.keys())\n",
    "        for contributor in contributors:\n",
    "            task = AC[contributor]\n",
    "            if \" \" in contributor:\n",
    "                contributor=[c_[0] for c_ in contributor.split()]\n",
    "                contributor=\".\".join(list(contributor))+\".\"\n",
    "            if task not in ACDict:\n",
    "                ACDict[task] = [contributor]\n",
    "            else:\n",
    "                ACDict[task].append(contributor)\n",
    "    else:\n",
    "        AC_list=AC.split(\".\")\n",
    "        for item in AC_list:\n",
    "            if \":\" not in item:\n",
    "                continue\n",
    "            item=item.split(\":\")\n",
    "            task=item[0].lower()\n",
    "            contributors=[]\n",
    "            contributors_raw=item[1].split()\n",
    "            for contributor in contributors_raw:\n",
    "                contributor=\".\".join(list(contributor))+\".\"\n",
    "                contributors.append(contributor)\n",
    "            ACDict[task]=contributors\n",
    "    df_POne.loc[i,\"SelfReportedData_Dict\"]=str(ACDict)"
   ]
  },
  {
   "cell_type": "code",
   "execution_count": 28,
   "id": "33eea0db",
   "metadata": {},
   "outputs": [],
   "source": [
    "# Identifying writing contributors\n",
    "n=len(df_POne)\n",
    "keywords=[\"wrote\",\"writing\",\"manuscript\",\"edit\",\"revise\",\"revision\"]\n",
    "for i in range(n):\n",
    "    authors_full = []\n",
    "    ACDict=eval(df_POne.loc[i,\"SelfReportedData_Dict\"])\n",
    "    for task in ACDict:\n",
    "        flag=False\n",
    "        for kw in keywords:\n",
    "            if kw in task.lower():\n",
    "                flag=True\n",
    "                break\n",
    "        if flag:\n",
    "            authors=[a.upper() for a in ACDict[task]]\n",
    "            authors_full += authors\n",
    "            # df_POne.loc[i,\"WritingPeople_SR\"]=str(authors)\n",
    "            # break\n",
    "    authors_full=list(set(authors_full))\n",
    "    df_POne.loc[i,\"WritingPeople_SR\"]=str(authors_full)"
   ]
  },
  {
   "cell_type": "code",
   "execution_count": 29,
   "id": "8e749c2d",
   "metadata": {},
   "outputs": [],
   "source": [
    "# Converting author names to abbreviations\n",
    "n=len(df_POne)\n",
    "for i in range(n):\n",
    "    authorList_raw=eval(df_POne.loc[i,\"Authors_SR_raw\"])\n",
    "    authorList=[]\n",
    "    for author in authorList_raw:\n",
    "        names=author.split(\" \")\n",
    "        abbr=\"\"\n",
    "        for name in names:\n",
    "            abbr+=name[0].upper()+\".\"\n",
    "        authorList.append(abbr)\n",
    "    df_POne.loc[i,\"Authors_SR\"]=str(authorList)"
   ]
  },
  {
   "cell_type": "code",
   "execution_count": 30,
   "id": "7eeb6cea",
   "metadata": {},
   "outputs": [],
   "source": [
    "# Matching authors' names and their ranks\n",
    "n=len(df_POne)\n",
    "for i in range(n):\n",
    "    authorList=eval(df_POne.loc[i,\"Authors_SR\"])\n",
    "    wroteList_raw=eval(df_POne.loc[i,\"WritingPeople_SR\"])\n",
    "    # Dealing with the cases that all authors contributed\n",
    "    keywords=[\"ALL\",\"BOTH\",\"AUTHORS\"]\n",
    "    flag=False\n",
    "    for kw in keywords:\n",
    "        if kw in wroteList_raw:\n",
    "            flag=True\n",
    "            break\n",
    "    if flag:\n",
    "        wroteList=[r+1 for r in range(len(authorList))]\n",
    "        df_POne.loc[i,\"WritingPeople_SR_rank\"]=str(wroteList)\n",
    "        df_POne.loc[i,\"WritingNumber_SR\"]=len(wroteList)\n",
    "        continue\n",
    "    # Dealing with the cases that only part of the authors contributed\n",
    "    wroteList=[]\n",
    "    try:\n",
    "        check=authorList.copy()\n",
    "        for writer in wroteList_raw:\n",
    "            if writer in authorList:\n",
    "                rank=authorList.index(writer)+1\n",
    "                wroteList.append(rank)\n",
    "                check.remove(writer)\n",
    "        wroteList.sort()\n",
    "    except:\n",
    "        pass\n",
    "    if len(wroteList)==len(wroteList_raw):\n",
    "        df_POne.loc[i,\"WritingPeople_SR_rank\"]=str(wroteList)\n",
    "        df_POne.loc[i,\"WritingNumber_SR\"]=len(wroteList)"
   ]
  },
  {
   "cell_type": "markdown",
   "id": "5baffb31",
   "metadata": {},
   "source": [
    "### - Observational data"
   ]
  },
  {
   "cell_type": "code",
   "execution_count": 31,
   "id": "000488c4",
   "metadata": {},
   "outputs": [],
   "source": [
    "df_POne=df_POne.rename(columns={\"TeamSize\":\"TeamSize_Obs\"})"
   ]
  },
  {
   "cell_type": "code",
   "execution_count": 33,
   "id": "d4b78902",
   "metadata": {},
   "outputs": [],
   "source": [
    "n=len(df_POne)\n",
    "for i in range(n):\n",
    "    l_rank=[]\n",
    "    AC=df_POne.loc[i,\"AuthorContribution\"]\n",
    "    rank=1\n",
    "    for author in AC:\n",
    "        if AC[author]!=0:\n",
    "            l_rank.append(rank)\n",
    "        rank+=1\n",
    "    df_POne.loc[i,\"WritingPeople_Obs_rank\"]=str(l_rank)\n",
    "    df_POne.loc[i,\"WritingNumber_Obs\"]=len(l_rank)"
   ]
  },
  {
   "cell_type": "markdown",
   "id": "92be4515",
   "metadata": {},
   "source": [
    "### - Summary"
   ]
  },
  {
   "cell_type": "code",
   "execution_count": 34,
   "id": "55387f0e",
   "metadata": {},
   "outputs": [],
   "source": [
    "df_POne=df_POne.dropna()\n",
    "df_POne=df_POne.reset_index(drop=True)"
   ]
  },
  {
   "cell_type": "code",
   "execution_count": 35,
   "id": "f77f3761",
   "metadata": {},
   "outputs": [],
   "source": [
    "df_POne=df_POne[df_POne[\"TeamSize_Obs\"]==df_POne[\"TeamSize_SR\"]]\n",
    "df_POne=df_POne[df_POne[\"PublicationYear\"]<=2023]\n",
    "df_POne=df_POne.reset_index(drop=True)"
   ]
  },
  {
   "cell_type": "code",
   "execution_count": 36,
   "id": "92fea50e",
   "metadata": {},
   "outputs": [
    {
     "name": "stdout",
     "output_type": "stream",
     "text": [
      "362\n",
      "2007 2023\n"
     ]
    }
   ],
   "source": [
    "print(len(df_POne))\n",
    "print(np.min(df_POne[\"PublicationYear\"]),np.max(df_POne[\"PublicationYear\"]))"
   ]
  },
  {
   "cell_type": "markdown",
   "id": "ec8715bc",
   "metadata": {},
   "source": [
    "# > Calculate Precision and Recall"
   ]
  },
  {
   "cell_type": "markdown",
   "id": "4f67dc6b",
   "metadata": {},
   "source": [
    "## Nature"
   ]
  },
  {
   "cell_type": "code",
   "execution_count": 64,
   "id": "c456a818",
   "metadata": {},
   "outputs": [],
   "source": [
    "n=len(df_Nature)\n",
    "for i in range(n):\n",
    "    actual=eval(df_Nature.loc[i,\"WritingPeople_SR_rank\"])\n",
    "    predict=eval(df_Nature.loc[i,\"WritingPeople_Obs_rank\"])\n",
    "    TP=0\n",
    "    FP=0\n",
    "    FN=0\n",
    "    for author in actual:\n",
    "        if author in predict:\n",
    "            TP+=1\n",
    "        else:\n",
    "            FN+=1\n",
    "    for author in predict:\n",
    "        if author not in actual:\n",
    "            FP+=1\n",
    "    try:\n",
    "        precision=TP/(TP+FP)\n",
    "        df_Nature.loc[i,\"Precision\"]=precision\n",
    "    except:\n",
    "        pass\n",
    "    try:\n",
    "        recall=TP/(TP+FN)\n",
    "        df_Nature.loc[i,\"Recall\"]=recall\n",
    "    except:\n",
    "        pass"
   ]
  },
  {
   "cell_type": "code",
   "execution_count": 65,
   "id": "27da02f0",
   "metadata": {},
   "outputs": [
    {
     "name": "stdout",
     "output_type": "stream",
     "text": [
      "Precision: 0.8153594771241831 (0.3794000127660417)\n",
      "Recall: 0.6402894862055889 (0.2754430348693917)\n"
     ]
    }
   ],
   "source": [
    "print(\"Precision: \"+str(np.mean(df_Nature[\"Precision\"]))+\" (\"+str(np.std(df_Nature[\"Precision\"]))+\")\")\n",
    "print(\"Recall: \"+str(np.mean(df_Nature[\"Recall\"]))+\" (\"+str(np.std(df_Nature[\"Recall\"]))+\")\")"
   ]
  },
  {
   "cell_type": "markdown",
   "id": "4ee600d6",
   "metadata": {},
   "source": [
    "## Science"
   ]
  },
  {
   "cell_type": "code",
   "execution_count": 66,
   "id": "4d7b5a4d",
   "metadata": {},
   "outputs": [],
   "source": [
    "n=len(df_Science)\n",
    "for i in range(n):\n",
    "    actual=eval(df_Science.loc[i,\"WritingPeople_SR_rank\"])\n",
    "    predict=eval(df_Science.loc[i,\"WritingPeople_Obs_rank\"])\n",
    "    TP=0\n",
    "    FP=0\n",
    "    FN=0\n",
    "    for author in actual:\n",
    "        if author in predict:\n",
    "            TP+=1\n",
    "        else:\n",
    "            FN+=1\n",
    "    for author in predict:\n",
    "        if author not in actual:\n",
    "            FP+=1\n",
    "    try:\n",
    "        precision=TP/(TP+FP)\n",
    "        df_Science.loc[i,\"Precision\"]=precision\n",
    "    except:\n",
    "        pass\n",
    "    try:\n",
    "        recall=TP/(TP+FN)\n",
    "        df_Science.loc[i,\"Recall\"]=recall\n",
    "    except:\n",
    "        pass"
   ]
  },
  {
   "cell_type": "code",
   "execution_count": 67,
   "id": "ca14d103",
   "metadata": {},
   "outputs": [
    {
     "name": "stdout",
     "output_type": "stream",
     "text": [
      "Precision: 0.8958333333333334 (0.3054766312211496)\n",
      "Recall: 0.5925824345652987 (0.29055299912112964)\n"
     ]
    }
   ],
   "source": [
    "print(\"Precision: \"+str(np.mean(df_Science[\"Precision\"]))+\" (\"+str(np.std(df_Science[\"Precision\"]))+\")\")\n",
    "print(\"Recall: \"+str(np.mean(df_Science[\"Recall\"]))+\" (\"+str(np.std(df_Science[\"Recall\"]))+\")\")"
   ]
  },
  {
   "cell_type": "markdown",
   "id": "f761d90e",
   "metadata": {},
   "source": [
    "## PNAS"
   ]
  },
  {
   "cell_type": "code",
   "execution_count": 68,
   "id": "007b35eb",
   "metadata": {},
   "outputs": [],
   "source": [
    "n=len(df_PNAS)\n",
    "for i in range(n):\n",
    "    actual=set(eval(df_PNAS.loc[i,\"WritingPeople_SR_rank\"]))\n",
    "    predict=set(eval(df_PNAS.loc[i,\"WritingPeople_Obs_rank\"]))\n",
    "    TP=0\n",
    "    FP=0\n",
    "    FN=0\n",
    "    for author in actual:\n",
    "        if author in predict:\n",
    "            TP+=1\n",
    "        else:\n",
    "            FN+=1\n",
    "    for author in predict:\n",
    "        if author not in actual:\n",
    "            FP+=1\n",
    "    try:\n",
    "        precision=TP/(TP+FP)\n",
    "        df_PNAS.loc[i,\"Precision\"]=precision\n",
    "    except:\n",
    "        pass\n",
    "    try:\n",
    "        recall=TP/(TP+FN)\n",
    "        df_PNAS.loc[i,\"Recall\"]=recall\n",
    "    except:\n",
    "        pass"
   ]
  },
  {
   "cell_type": "code",
   "execution_count": 69,
   "id": "e21d868a",
   "metadata": {},
   "outputs": [
    {
     "name": "stdout",
     "output_type": "stream",
     "text": [
      "Precision: 0.8973912147952215 (0.2472327131702179)\n",
      "Recall: 0.7310290710800915 (0.286984675757484)\n"
     ]
    }
   ],
   "source": [
    "print(\"Precision: \"+str(np.mean(df_PNAS[\"Precision\"]))+\" (\"+str(np.std(df_PNAS[\"Precision\"]))+\")\")\n",
    "print(\"Recall: \"+str(np.mean(df_PNAS[\"Recall\"]))+\" (\"+str(np.std(df_PNAS[\"Recall\"]))+\")\")"
   ]
  },
  {
   "cell_type": "markdown",
   "id": "20e08203",
   "metadata": {},
   "source": [
    "## Plos One"
   ]
  },
  {
   "cell_type": "code",
   "execution_count": 70,
   "id": "04c55b1b",
   "metadata": {},
   "outputs": [],
   "source": [
    "n=len(df_POne)\n",
    "for i in range(n):\n",
    "    actual=eval(df_POne.loc[i,\"WritingPeople_SR_rank\"])\n",
    "    predict=eval(df_POne.loc[i,\"WritingPeople_Obs_rank\"])\n",
    "    TP=0\n",
    "    FP=0\n",
    "    FN=0\n",
    "    for author in actual:\n",
    "        if author in predict:\n",
    "            TP+=1\n",
    "        else:\n",
    "            FN+=1\n",
    "    for author in predict:\n",
    "        if author not in actual:\n",
    "            FP+=1\n",
    "    try:\n",
    "        precision=TP/(TP+FP)\n",
    "        df_POne.loc[i,\"Precision\"]=precision\n",
    "    except:\n",
    "        pass\n",
    "    try:\n",
    "        recall=TP/(TP+FN)\n",
    "        df_POne.loc[i,\"Recall\"]=recall\n",
    "    except:\n",
    "        pass"
   ]
  },
  {
   "cell_type": "code",
   "execution_count": 71,
   "id": "60980431",
   "metadata": {},
   "outputs": [
    {
     "name": "stdout",
     "output_type": "stream",
     "text": [
      "Precision: 0.92255985267035 (0.22684808227890876)\n",
      "Recall: 0.6540618869270555 (0.29705449411037993)\n"
     ]
    }
   ],
   "source": [
    "print(\"Precision: \"+str(np.mean(df_POne[\"Precision\"]))+\" (\"+str(np.std(df_POne[\"Precision\"]))+\")\")\n",
    "print(\"Recall: \"+str(np.mean(df_POne[\"Recall\"]))+\" (\"+str(np.std(df_POne[\"Recall\"]))+\")\")"
   ]
  },
  {
   "cell_type": "code",
   "execution_count": null,
   "id": "17b1abab",
   "metadata": {},
   "outputs": [],
   "source": []
  }
 ],
 "metadata": {
  "kernelspec": {
   "display_name": "Python 3",
   "language": "python",
   "name": "python3"
  },
  "language_info": {
   "codemirror_mode": {
    "name": "ipython",
    "version": 3
   },
   "file_extension": ".py",
   "mimetype": "text/x-python",
   "name": "python",
   "nbconvert_exporter": "python",
   "pygments_lexer": "ipython3",
   "version": "3.9.6"
  }
 },
 "nbformat": 4,
 "nbformat_minor": 5
}
