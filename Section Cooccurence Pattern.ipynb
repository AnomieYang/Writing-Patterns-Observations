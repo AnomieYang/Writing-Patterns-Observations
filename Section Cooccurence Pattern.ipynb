{
 "cells": [
  {
   "cell_type": "code",
   "execution_count": 1,
   "id": "f446758f",
   "metadata": {},
   "outputs": [],
   "source": [
    "from tqdm import tqdm\n",
    "import csv\n",
    "import sys\n",
    "csv.field_size_limit(sys.maxsize)\n",
    "import re\n",
    "import itertools"
   ]
  },
  {
   "cell_type": "code",
   "execution_count": 2,
   "id": "5cc6fb6f",
   "metadata": {},
   "outputs": [],
   "source": [
    "file=\"Data/author_contribution_full.csv\""
   ]
  },
  {
   "cell_type": "code",
   "execution_count": 3,
   "id": "904f5e51",
   "metadata": {},
   "outputs": [],
   "source": [
    "sec2label = {\n",
    "    'introduction': 'Introduction',\n",
    "    # 'background': 'Background',\n",
    "    'related work': 'Related Work',\n",
    "    'related works': 'Related Work',\n",
    "    'preliminary': 'Preliminaries',\n",
    "    'preliminaries': 'Preliminaries',\n",
    "    'experiment': 'Experiments',\n",
    "    'experiments': 'Experiments',\n",
    "    'numerical experiments': 'Experiments',\n",
    "    'methods': 'Methods',\n",
    "    'methodology': 'Methods',\n",
    "    'method': 'Methods',\n",
    "    'model': 'Methods',\n",
    "    'the model': 'Methods',\n",
    "    'proposed method': 'Methods',\n",
    "    'proofs': 'Methods',\n",
    "    'notation': 'Methods',\n",
    "    # 'examples': 'Examples',\n",
    "    # 'observations': 'Observations'\n",
    "    'results': 'Results',\n",
    "    'main results': 'Results',\n",
    "    'numerical results': 'Results',\n",
    "    # 'simulation': 'Simulation',\n",
    "    # 'evaluation': 'Evaluation',\n",
    "    # 'applications': 'Applications',\n",
    "    # 'summary': 'Summary',\n",
    "    'conclusion': 'Conclusions',\n",
    "    'conclusions': 'Conclusions',\n",
    "    'concluding remarks': 'Conclusions',\n",
    "    'final remarks': 'Conclusions',\n",
    "    'discussion': 'Discussion',\n",
    "    'discussions': 'Discussion',\n",
    "    # 'acknowledgements': 'Acknowledgements',\n",
    "    # 'acknowledgement': 'Acknowledgements',\n",
    "    # 'acknowledgments': 'Acknowledgements',\n",
    "    # 'acknowledgment': 'Acknowledgements',\n",
    "    # 'appendix': 'Appendix', \n",
    "    # 'appendixes': 'Appendix', \n",
    "    # 'appendices': 'Appendix', \n",
    "}"
   ]
  },
  {
   "cell_type": "code",
   "execution_count": 4,
   "id": "3094a53e",
   "metadata": {},
   "outputs": [
    {
     "name": "stderr",
     "output_type": "stream",
     "text": [
      "0it [00:00, ?it/s]"
     ]
    },
    {
     "name": "stderr",
     "output_type": "stream",
     "text": [
      "2840569it [07:15, 6529.00it/s]\n"
     ]
    }
   ],
   "source": [
    "secList=[\"Introduction\",\"Preliminaries\",\"Related Work\",\"Experiments\",\"Methods\",\"Results\",\"Conclusions\",\"Discussion\"]\n",
    "D1=dict({i:0 for i in secList}) # Number of authors contributing to each section\n",
    "D1_=dict({i:0 for i in secList}) # Number of times each section appears in paper-author units\n",
    "D2=dict({i:0 for i in list(itertools.combinations(secList,2))}) # Number of authors contributing to each section pair\n",
    "D2_=dict({i:0 for i in list(itertools.combinations(secList,2))}) # Number of times each section pair appears in paper-author units\n",
    "D3=dict({i:{j:0 for j in secList if j!=i} for i in secList}) # Conditional count of authors contributing to one section given contribution to another\n",
    "paper_num=0\n",
    "unit_num=0\n",
    "year_l=[]\n",
    "\n",
    "with open(file,mode=\"r\",encoding=\"utf-8\") as FI:\n",
    "     \n",
    "     reader=csv.reader(FI)\n",
    "     cols=next(reader)\n",
    "     \n",
    "     for row in tqdm(reader):\n",
    "          \n",
    "          # Map author IDs\n",
    "          pid=row[cols.index(\"arxiv_id\")]\n",
    "          dic=eval(re.sub(r\"defaultdict\\(<class 'int'>, (\\{.*?\\})\\)\", r\"\\1\", row[cols.index('author_section_contribution')]))\n",
    "          if len(dic)<2:\n",
    "               continue\n",
    "          year_l.append(row[cols.index(\"pub_year_from_open_alex\")])\n",
    "\n",
    "          # Map sections\n",
    "          total={}\n",
    "          details={}\n",
    "          for aid in dic:\n",
    "               details[aid]={}\n",
    "               for sec in dic[aid]:\n",
    "                    sec_=sec.strip().lower().replace(\"\\label{\",\"\").replace(\"sec:\",\"\").replace(\"\\t\",\"\")\n",
    "                    for s in sec_.split(\"and\"):\n",
    "                         if s in sec2label:\n",
    "                              details[aid][sec2label[s]]=dic[aid][sec]\n",
    "               total.update(details[aid])\n",
    "          if len(total)<2: # Keep only papers with at least two valid sections\n",
    "               continue\n",
    "          if 0 in total.values(): # Keep only papers with non-zero contributions in all sections\n",
    "               continue\n",
    "\n",
    "          paper_num+=1\n",
    "          unit_num+=len(dic)\n",
    "          for aname in details:\n",
    "               # Cooccurence\n",
    "               l=[sec for sec in details[aname] if details[aname][sec]!=0]\n",
    "               for sec in l:\n",
    "                    D1[sec]+=1\n",
    "               for pair in D2:\n",
    "                    if pair[0] in l and pair[1] in l:\n",
    "                         D2[pair]+=1\n",
    "               # Total units\n",
    "               l_=[sec for sec in secList if sec in total]\n",
    "               for sec in l_:\n",
    "                    D1_[sec]+=1\n",
    "               for pair in list(itertools.combinations(l_,2)):\n",
    "                    D2_[pair]+=1\n",
    "               # Single sections in cooccurence papers\n",
    "               for sec1 in D3:\n",
    "                    for sec2 in D3:\n",
    "                         if sec1==sec2:\n",
    "                              continue\n",
    "                         if sec1 in l_ and sec2 in l_ and sec1 in l:\n",
    "                              D3[sec1][sec2]+=1"
   ]
  },
  {
   "cell_type": "code",
   "execution_count": 5,
   "id": "e5dffcc5",
   "metadata": {},
   "outputs": [
    {
     "name": "stdout",
     "output_type": "stream",
     "text": [
      "61982 351780\n"
     ]
    }
   ],
   "source": [
    "print(paper_num,unit_num)"
   ]
  },
  {
   "cell_type": "code",
   "execution_count": 6,
   "id": "3e302efd",
   "metadata": {},
   "outputs": [
    {
     "name": "stdout",
     "output_type": "stream",
     "text": [
      " 2024\n"
     ]
    }
   ],
   "source": [
    "print(min(year_l),max(year_l))"
   ]
  },
  {
   "cell_type": "markdown",
   "id": "b3d769b4",
   "metadata": {},
   "source": [
    "# Co-occurence frequency"
   ]
  },
  {
   "cell_type": "code",
   "execution_count": 8,
   "id": "446dca1f",
   "metadata": {},
   "outputs": [],
   "source": [
    "import numpy as np\n",
    "import matplotlib.pyplot as plt\n",
    "from scipy.cluster.hierarchy import linkage, dendrogram\n",
    "from scipy.spatial.distance import squareform"
   ]
  },
  {
   "cell_type": "code",
   "execution_count": 9,
   "id": "d075a647",
   "metadata": {},
   "outputs": [],
   "source": [
    "sections = ['Introduction', 'Preliminaries', 'Methods', 'Results', 'Conclusions', 'Discussion']"
   ]
  },
  {
   "cell_type": "code",
   "execution_count": 10,
   "id": "3f0cc18a",
   "metadata": {},
   "outputs": [
    {
     "data": {
      "text/plain": [
       "{('Introduction', 'Preliminaries'): 0.7444790202770528,\n",
       " ('Introduction', 'Methods'): 0.7283334435116018,\n",
       " ('Introduction', 'Results'): 0.7342585066779053,\n",
       " ('Introduction', 'Conclusions'): 0.6829502644697287,\n",
       " ('Introduction', 'Discussion'): 0.6173844537815126,\n",
       " ('Preliminaries', 'Methods'): 0.7831325301204819,\n",
       " ('Preliminaries', 'Results'): 0.7778402699662542,\n",
       " ('Preliminaries', 'Conclusions'): 0.7259243336199485,\n",
       " ('Preliminaries', 'Discussion'): 0.744433688286544,\n",
       " ('Methods', 'Results'): 0.7324933095450491,\n",
       " ('Methods', 'Conclusions'): 0.710904911892398,\n",
       " ('Methods', 'Discussion'): 0.688616311598881,\n",
       " ('Results', 'Conclusions'): 0.7080311222471317,\n",
       " ('Results', 'Discussion'): 0.6202472318237741,\n",
       " ('Conclusions', 'Discussion'): 0.5890831162282545}"
      ]
     },
     "execution_count": 10,
     "metadata": {},
     "output_type": "execute_result"
    }
   ],
   "source": [
    "edges = {pair: D2[pair] / D2_[pair] for pair in D2 if \"Related Work\" not in pair and \"Experiments\" not in pair}\n",
    "edges"
   ]
  },
  {
   "cell_type": "code",
   "execution_count": 16,
   "id": "5ab3dccd",
   "metadata": {},
   "outputs": [
    {
     "data": {
      "image/png": "[encoded data removed]",
      "text/plain": [
       "<Figure size 500x500 with 1 Axes>"
      ]
     },
     "metadata": {},
     "output_type": "display_data"
    }
   ],
   "source": [
    "# Initialize similarity matrix\n",
    "similarity = np.ones((6, 6))\n",
    "\n",
    "# Fill in similarity matrix using computed edge weights\n",
    "for (a, b), sim in edges.items():\n",
    "    i, j = sections.index(a), sections.index(b)\n",
    "    similarity[i][j] = sim\n",
    "    similarity[j][i] = sim\n",
    "# Convert similarity matrix to distance matrix (must be in condensed form)\n",
    "distance = 1 - similarity\n",
    "condensed_distance = squareform(distance)  # Extract upper triangle for clustering\n",
    "\n",
    "# Perform hierarchical clustering using \"ward\" linkage\n",
    "Z = linkage(condensed_distance, method='ward')\n",
    "\n",
    "# Plot dendrogram\n",
    "plt.figure(figsize=(5,5))\n",
    "dendrogram(Z, labels=sections, leaf_rotation=45, leaf_font_size=16, color_threshold=0)\n",
    "plt.yticks([y/10 for y in range(0,5)],size=16)\n",
    "plt.tight_layout()\n",
    "plt.savefig(\"Figures/Figure 2B_Hierarchical Clustering Dendrogram of Sections.pdf\")\n",
    "plt.show()"
   ]
  },
  {
   "cell_type": "markdown",
   "id": "75487ce8",
   "metadata": {},
   "source": [
    "# Conditional Probability"
   ]
  },
  {
   "cell_type": "code",
   "execution_count": 17,
   "id": "e970d62a",
   "metadata": {},
   "outputs": [],
   "source": [
    "target=['Introduction', 'Preliminaries', 'Methods', 'Results', 'Conclusions', 'Discussion']"
   ]
  },
  {
   "cell_type": "code",
   "execution_count": 18,
   "id": "94fa737a",
   "metadata": {},
   "outputs": [
    {
     "data": {
      "text/plain": [
       "{'Introduction': {'Preliminaries': 0.7589339490062237,\n",
       "  'Methods': 0.7396377338533747,\n",
       "  'Results': 0.7484873114783708,\n",
       "  'Conclusions': 0.7019721070055939,\n",
       "  'Discussion': 0.6358849789915967},\n",
       " 'Preliminaries': {'Introduction': 0.7601385264003212,\n",
       "  'Methods': 0.7961847389558233,\n",
       "  'Results': 0.7913385826771654,\n",
       "  'Conclusions': 0.7609630266552021,\n",
       "  'Discussion': 0.7705711519845111},\n",
       " 'Methods': {'Introduction': 0.7438024724003438,\n",
       "  'Preliminaries': 0.7911646586345381,\n",
       "  'Results': 0.7423059768064229,\n",
       "  'Conclusions': 0.7388269345364774,\n",
       "  'Discussion': 0.7075532601678503},\n",
       " 'Results': {'Introduction': 0.7469721143522281,\n",
       "  'Preliminaries': 0.7941507311586051,\n",
       "  'Methods': 0.7467662801070473,\n",
       "  'Conclusions': 0.7240933667413952,\n",
       "  'Discussion': 0.6375886109320992},\n",
       " 'Conclusions': {'Introduction': 0.695127287948552,\n",
       "  'Preliminaries': 0.7368873602751504,\n",
       "  'Methods': 0.718992083085043,\n",
       "  'Results': 0.7210075168139259,\n",
       "  'Discussion': 0.6094629800823599},\n",
       " 'Discussion': {'Introduction': 0.631499474789916,\n",
       "  'Preliminaries': 0.7599225556631172,\n",
       "  'Methods': 0.697869593285991,\n",
       "  'Results': 0.6343078094791728,\n",
       "  'Conclusions': 0.6069837801495924}}"
      ]
     },
     "execution_count": 18,
     "metadata": {},
     "output_type": "execute_result"
    }
   ],
   "source": [
    "P_single={}\n",
    "for i in target:\n",
    "    P_single[i]={}\n",
    "    for j in target:\n",
    "        if j==i:\n",
    "            continue\n",
    "        try:\n",
    "            P_single[i][j]=D3[i][j]/D2_[(i,j)]\n",
    "        except:\n",
    "            P_single[i][j]=D3[i][j]/D2_[(j,i)]\n",
    "P_single"
   ]
  },
  {
   "cell_type": "code",
   "execution_count": 19,
   "id": "2eeec48a",
   "metadata": {},
   "outputs": [
    {
     "data": {
      "text/plain": [
       "{('Introduction', 'Preliminaries'): 0.7444790202770528,\n",
       " ('Introduction', 'Methods'): 0.7283334435116018,\n",
       " ('Introduction', 'Results'): 0.7342585066779053,\n",
       " ('Introduction', 'Conclusions'): 0.6829502644697287,\n",
       " ('Introduction', 'Discussion'): 0.6173844537815126,\n",
       " ('Preliminaries', 'Methods'): 0.7831325301204819,\n",
       " ('Preliminaries', 'Results'): 0.7778402699662542,\n",
       " ('Preliminaries', 'Conclusions'): 0.7259243336199485,\n",
       " ('Preliminaries', 'Discussion'): 0.744433688286544,\n",
       " ('Methods', 'Results'): 0.7324933095450491,\n",
       " ('Methods', 'Conclusions'): 0.710904911892398,\n",
       " ('Methods', 'Discussion'): 0.688616311598881,\n",
       " ('Results', 'Conclusions'): 0.7080311222471317,\n",
       " ('Results', 'Discussion'): 0.6202472318237741,\n",
       " ('Conclusions', 'Discussion'): 0.5890831162282545}"
      ]
     },
     "execution_count": 19,
     "metadata": {},
     "output_type": "execute_result"
    }
   ],
   "source": [
    "P_pair={pair: D2[pair]/D2_[pair] for pair in D2 if pair[0] in target and pair[1] in target}\n",
    "P_pair"
   ]
  },
  {
   "cell_type": "code",
   "execution_count": 20,
   "id": "6b5b2875",
   "metadata": {},
   "outputs": [],
   "source": [
    "P_conditional={}\n",
    "for (A,B),joint_prob in P_pair.items():\n",
    "    P_conditional[\"|\".join([A,B])]=joint_prob/P_single[B][A]\n",
    "    P_conditional[\"|\".join([B,A])]=joint_prob/P_single[A][B]"
   ]
  },
  {
   "cell_type": "code",
   "execution_count": 21,
   "id": "12f88e4f",
   "metadata": {},
   "outputs": [
    {
     "data": {
      "text/plain": [
       "[('Preliminaries|Methods', 0.9898477157360406),\n",
       " ('Methods|Conclusions', 0.9887520719867392),\n",
       " ('Results|Methods', 0.9867808322066998),\n",
       " ('Methods|Discussion', 0.986740672217083),\n",
       " ('Preliminaries|Conclusions', 0.9851225204200701),\n",
       " ('Methods|Introduction', 0.9847164499262636),\n",
       " ('Methods|Preliminaries', 0.9836065573770492),\n",
       " ('Introduction|Results', 0.9829798095135747),\n",
       " ('Results|Preliminaries', 0.9829424307036246),\n",
       " ('Introduction|Conclusions', 0.9824823112400609),\n",
       " ('Results|Conclusions', 0.9820024143102754),\n",
       " ('Results|Introduction', 0.9809899184899186),\n",
       " ('Preliminaries|Introduction', 0.9809536406322333),\n",
       " ('Methods|Results', 0.9808869643123788),\n",
       " ('Preliminaries|Discussion', 0.9796178343949044),\n",
       " ('Preliminaries|Results', 0.9794617563739377),\n",
       " ('Introduction|Preliminaries', 0.9793991416309014),\n",
       " ('Introduction|Methods', 0.9792027729636048),\n",
       " ('Results|Discussion', 0.9778331947908008),\n",
       " ('Conclusions|Results', 0.977817440081591),\n",
       " ('Introduction|Discussion', 0.9776484042000209),\n",
       " ('Discussion|Methods', 0.9732360097323601),\n",
       " ('Conclusions|Introduction', 0.9729022815208332),\n",
       " ('Discussion|Results', 0.9728016172011392),\n",
       " ('Discussion|Introduction', 0.9709058621900101),\n",
       " ('Conclusions|Discussion', 0.9705088265835929),\n",
       " ('Discussion|Conclusions', 0.9665609487038058),\n",
       " ('Discussion|Preliminaries', 0.9660804020100502),\n",
       " ('Conclusions|Methods', 0.9622076276068671),\n",
       " ('Conclusions|Preliminaries', 0.953954802259887)]"
      ]
     },
     "execution_count": 21,
     "metadata": {},
     "output_type": "execute_result"
    }
   ],
   "source": [
    "sorted(P_conditional.items(),key=lambda x: x[1],reverse=True)"
   ]
  },
  {
   "cell_type": "code",
   "execution_count": 22,
   "id": "31c6e2ec",
   "metadata": {},
   "outputs": [
    {
     "data": {
      "text/plain": [
       "[('Conclusions|Discussion', 13.37),\n",
       " ('Conclusions|Introduction', 15.17),\n",
       " ('Conclusions|Methods', 7.58),\n",
       " ('Conclusions|Preliminaries', 2.5),\n",
       " ('Conclusions|Results', 19.09),\n",
       " ('Discussion|Conclusions', 10.53),\n",
       " ('Discussion|Introduction', 13.66),\n",
       " ('Discussion|Methods', 15.43),\n",
       " ('Discussion|Preliminaries', 10.19),\n",
       " ('Discussion|Results', 15.1),\n",
       " ('Introduction|Conclusions', 23.09),\n",
       " ('Introduction|Discussion', 18.95),\n",
       " ('Introduction|Methods', 20.25),\n",
       " ('Introduction|Preliminaries', 20.42),\n",
       " ('Introduction|Results', 23.53),\n",
       " ('Methods|Conclusions', 28.92),\n",
       " ('Methods|Discussion', 26.99),\n",
       " ('Methods|Introduction', 25.11),\n",
       " ('Methods|Preliminaries', 24.1),\n",
       " ('Methods|Results', 21.69),\n",
       " ('Preliminaries|Conclusions', 25.48),\n",
       " ('Preliminaries|Discussion', 20.6),\n",
       " ('Preliminaries|Introduction', 21.75),\n",
       " ('Preliminaries|Methods', 30.0),\n",
       " ('Preliminaries|Results', 20.47),\n",
       " ('Results|Conclusions', 22.67),\n",
       " ('Results|Discussion', 19.11),\n",
       " ('Results|Introduction', 21.78),\n",
       " ('Results|Methods', 27.03),\n",
       " ('Results|Preliminaries', 23.5)]"
      ]
     },
     "execution_count": 22,
     "metadata": {},
     "output_type": "execute_result"
    }
   ],
   "source": [
    "# Make differences more visually noticeable\n",
    "min_width = 0.5\n",
    "max_width = 6\n",
    "alpha = 15\n",
    "def amplify_weight(w, min_w, max_w, alpha=15):\n",
    "    return min_width + (max_width - min_width) * (np.exp(alpha * (w - min_w)) - 1) / (np.exp(alpha * (max_w - min_w)) - 1)\n",
    "\n",
    "keyList=list(P_conditional.keys())\n",
    "weights=P_conditional.values()\n",
    "min_w, max_w = min(weights), max(weights)\n",
    "edge_widths = [amplify_weight(w, min_w, max_w, alpha) for w in weights]\n",
    "sorted({keyList[i]:round(edge_widths[i]*5,2) for i in range(len(keyList))}.items())"
   ]
  }
 ],
 "metadata": {
  "kernelspec": {
   "display_name": "Python 3",
   "language": "python",
   "name": "python3"
  },
  "language_info": {
   "codemirror_mode": {
    "name": "ipython",
    "version": 3
   },
   "file_extension": ".py",
   "mimetype": "text/x-python",
   "name": "python",
   "nbconvert_exporter": "python",
   "pygments_lexer": "ipython3",
   "version": "3.9.6"
  }
 },
 "nbformat": 4,
 "nbformat_minor": 5
}
